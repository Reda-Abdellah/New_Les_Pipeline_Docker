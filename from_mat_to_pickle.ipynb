{
 "cells": [
  {
   "cell_type": "code",
   "execution_count": 2,
   "metadata": {},
   "outputs": [
    {
     "name": "stdout",
     "output_type": "stream",
     "text": [
      "Collecting pymatreader\n",
      "  Downloading pymatreader-0.0.25.tar.gz (6.0 kB)\n",
      "Requirement already satisfied: h5py in /home/rkamraoui/anaconda3/lib/python3.8/site-packages (from pymatreader) (3.1.0)\n",
      "Requirement already satisfied: scipy!=1.7.0 in /home/rkamraoui/.local/lib/python3.8/site-packages (from pymatreader) (1.7.1)\n",
      "Requirement already satisfied: numpy in /home/rkamraoui/.local/lib/python3.8/site-packages (from pymatreader) (1.21.3)\n",
      "Requirement already satisfied: xmltodict in /home/rkamraoui/anaconda3/lib/python3.8/site-packages (from pymatreader) (0.12.0)\n",
      "Requirement already satisfied: future in /home/rkamraoui/anaconda3/lib/python3.8/site-packages (from pymatreader) (0.18.2)\n",
      "Building wheels for collected packages: pymatreader\n",
      "  Building wheel for pymatreader (setup.py) ... \u001b[?25ldone\n",
      "\u001b[?25h  Created wheel for pymatreader: filename=pymatreader-0.0.25-py3-none-any.whl size=8606 sha256=e71cb49b7c278772aff80ad2c933ecac01482cc20f67d88e6a430a5166fce954\n",
      "  Stored in directory: /home/rkamraoui/.cache/pip/wheels/1d/9d/eb/26fdb6f5b631fef7748ec1a29bd4928cd9052f7e4bcfc70ade\n",
      "Successfully built pymatreader\n",
      "Installing collected packages: pymatreader\n",
      "Successfully installed pymatreader-0.0.25\n"
     ]
    }
   ],
   "source": [
    "!pip3 install pymatreader"
   ]
  },
  {
   "cell_type": "code",
   "execution_count": 3,
   "metadata": {},
   "outputs": [],
   "source": [
    "from pymatreader import read_mat\n",
    "\n"
   ]
  },
  {
   "cell_type": "code",
   "execution_count": 60,
   "metadata": {},
   "outputs": [],
   "source": [
    "import pickle"
   ]
  },
  {
   "cell_type": "code",
   "execution_count": 6,
   "metadata": {},
   "outputs": [],
   "source": [
    "data = read_mat('hombre.mat')\n",
    "data_ = read_mat('mujer.mat')"
   ]
  },
  {
   "cell_type": "code",
   "execution_count": 62,
   "metadata": {},
   "outputs": [],
   "source": [
    "dataset={}\n",
    "dataset['male']=data['hombre']\n",
    "dataset['female']=data_['mujer']"
   ]
  },
  {
   "cell_type": "code",
   "execution_count": 61,
   "metadata": {},
   "outputs": [],
   "source": [
    "def save_obj(obj, name ):\n",
    "    with open(name + '.pkl', 'wb') as f:\n",
    "        pickle.dump(obj, f, pickle.HIGHEST_PROTOCOL)\n",
    "\n",
    "def load_obj(name ):\n",
    "    with open(name + '.pkl', 'rb') as f:\n",
    "        return pickle.load(f)"
   ]
  },
  {
   "cell_type": "code",
   "execution_count": 63,
   "metadata": {},
   "outputs": [],
   "source": [
    "#np.save('normal_crisp_volume_by_age.npy',dataset, allow_pickle=True)\n",
    "save_obj(dataset, 'normal_crisp_volume_by_age' )"
   ]
  },
  {
   "cell_type": "code",
   "execution_count": 64,
   "metadata": {},
   "outputs": [],
   "source": [
    "#dataset=np.load('normal_crisp_volume_by_age.npy', allow_pickle=True)\n",
    "dataset=load_obj('normal_crisp_volume_by_age' )"
   ]
  },
  {
   "cell_type": "code",
   "execution_count": 71,
   "metadata": {},
   "outputs": [
    {
     "data": {
      "text/plain": [
       "(101,)"
      ]
     },
     "execution_count": 71,
     "metadata": {},
     "output_type": "execute_result"
    }
   ],
   "source": [
    "dataset['female'][0]['up'].shape"
   ]
  },
  {
   "cell_type": "code",
   "execution_count": null,
   "metadata": {},
   "outputs": [],
   "source": [
    "function PlotBounds(sexo,edad,volumes,respath)\n",
    "\n",
    "load hombre\n",
    "load mujer\n",
    "\n",
    "structure{1} = 'White matter';\n",
    "structure{2} = 'Grey matter';\n",
    "structure{3} = 'Cerebrospinal fluid';\n",
    "\n",
    "figname{1} = 'fig_wm';\n",
    "figname{2} = 'fig_gm';\n",
    "figname{3} = 'fig_csf';\n",
    "\n",
    "for i = 1:3\n",
    "    \n",
    "    close all\n",
    "    a=figure\n",
    "    \n",
    "    if(strcmp(sexo,'Male'))\n",
    "        jbfill((0:100), hombre{i}.up, hombre{i}.down,'b','b',0.2);\n",
    "    else\n",
    "        jbfill((0:100), mujer{i}.up, mujer{i}.down,'b','b',0.2);\n",
    "    end\n",
    "\n",
    "    hold on\n",
    "\n",
    "    plot(edad, volumes(i), 'r+', 'LineWidth', 2);\n",
    "\n",
    "    hold off\n",
    "\n",
    "    title(structure{i});\n",
    "    xlabel('Age (years)');\n",
    "    ylabel('Volume (%)');\n",
    "    \n",
    "    set(gca,'fontsize',24)\n",
    "    \n",
    "    print([respath,filesep,figname{i}],'-dpng')\n",
    "    \n",
    "    close(a)\n",
    "end"
   ]
  },
  {
   "cell_type": "code",
   "execution_count": 68,
   "metadata": {},
   "outputs": [],
   "source": [
    "structure=['White matter', 'Grey matter' ,'Cerebrospinal fluid']\n",
    "filenames=['WM.png','GM.png','CSF.png']\n",
    "figname = ['fig_wm','fig_gm','fig_csf']\n",
    "tissue_vol=[30,30,30]\n",
    "age=21\n",
    "sex='female'\n",
    "dataset=load_obj('normal_crisp_volume_by_age' )"
   ]
  },
  {
   "cell_type": "code",
   "execution_count": 16,
   "metadata": {},
   "outputs": [],
   "source": [
    "from matplotlib import pyplot as plt\n",
    "import numpy as np"
   ]
  },
  {
   "cell_type": "code",
   "execution_count": 69,
   "metadata": {},
   "outputs": [
    {
     "data": {
      "text/plain": [
       "<Figure size 432x288 with 0 Axes>"
      ]
     },
     "metadata": {},
     "output_type": "display_data"
    }
   ],
   "source": [
    "for i in range(3):\n",
    "    plt.fill_between(np.arange(101), dataset[sex][i]['up'], dataset[sex][i]['down'],color=['lightgreen'])\n",
    "    plt.title(structure[i])\n",
    "    plt.xlabel('age')\n",
    "    plt.ylabel('volume (%)')\n",
    "    plt.plot([age],[tissue_vol[i]], 'ro')\n",
    "    plt.savefig(filenames[i], dpi=300)\n",
    "    plt.clf()"
   ]
  }
 ],
 "metadata": {
  "kernelspec": {
   "display_name": "Python 3",
   "language": "python",
   "name": "python3"
  },
  "language_info": {
   "codemirror_mode": {
    "name": "ipython",
    "version": 3
   },
   "file_extension": ".py",
   "mimetype": "text/x-python",
   "name": "python",
   "nbconvert_exporter": "python",
   "pygments_lexer": "ipython3",
   "version": "3.8.8"
  }
 },
 "nbformat": 4,
 "nbformat_minor": 2
}
